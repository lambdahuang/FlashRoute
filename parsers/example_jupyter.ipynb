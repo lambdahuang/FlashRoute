{
 "cells": [
  {
   "cell_type": "code",
   "execution_count": null,
   "id": "8115d012",
   "metadata": {},
   "outputs": [],
   "source": [
    "from output_parser import FlashRouteParser\n",
    "import glog\n",
    "import pandas as pd"
   ]
  },
  {
   "cell_type": "code",
   "execution_count": null,
   "id": "fef99ba2",
   "metadata": {},
   "outputs": [],
   "source": [
    "def load_records_to_dataframe(filepath):\n",
    "    flashroute_parser = FlashRouteParser(filepath)\n",
    "    interface_set = list()\n",
    "    i = 0\n",
    "    while(True):\n",
    "        result = flashroute_parser.next()\n",
    "        if result is None:\n",
    "            break\n",
    "        interface_set.append([result.resp_ip, result.dest_ip , result.distance, result.from_dest, result.ipv4_addr])\n",
    "        i += 1\n",
    "        \n",
    "\n",
    "    glog.info(f'Load {i} records. Now transform the data to dataframe')\n",
    "    interface_set_df = pd.DataFrame(interface_set, columns=['Interface', 'Destination', 'HopFromSource', 'FromDestination', 'IPv4Addr'])\n",
    "    glog.info('Finished.')\n",
    "    return interface_set_df"
   ]
  },
  {
   "cell_type": "code",
   "execution_count": null,
   "id": "e20c4901",
   "metadata": {},
   "outputs": [],
   "source": [
    "# You need to replace example to the path to your output\n",
    "interface_df = load_records_to_dataframe('example_output')"
   ]
  },
  {
   "cell_type": "code",
   "execution_count": null,
   "id": "8f17ff17",
   "metadata": {},
   "outputs": [],
   "source": [
    "# Select Unique Interface. \n",
    "# If an interface appears at different hop distance, we select the one closest to the vantage point \n",
    "unique_interface = interface_df.groupby(['Interface']).agg(\n",
    "        Hop=pd.NamedAgg(column='HopFromSource', aggfunc='min'))"
   ]
  },
  {
   "cell_type": "code",
   "execution_count": null,
   "id": "7b94f10a",
   "metadata": {},
   "outputs": [],
   "source": [
    "# Draw Histogram Graph\n",
    "unique_interface['Hop'].hist( figsize=(16, 5), bins=32)"
   ]
  },
  {
   "cell_type": "code",
   "execution_count": null,
   "id": "89afb70c",
   "metadata": {},
   "outputs": [],
   "source": []
  }
 ],
 "metadata": {
  "kernelspec": {
   "display_name": "Python 3",
   "language": "python",
   "name": "python3"
  },
  "language_info": {
   "codemirror_mode": {
    "name": "ipython",
    "version": 3
   },
   "file_extension": ".py",
   "mimetype": "text/x-python",
   "name": "python",
   "nbconvert_exporter": "python",
   "pygments_lexer": "ipython3",
   "version": "3.6.9"
  }
 },
 "nbformat": 4,
 "nbformat_minor": 5
}
